{
  "cells": [
    {
      "cell_type": "markdown",
      "metadata": {
        "id": "view-in-github",
        "colab_type": "text"
      },
      "source": [
        "<a href=\"https://colab.research.google.com/github/ogatash-lab/ICICS2023EvalData/blob/main/CVSS_MLR.ipynb\" target=\"_parent\"><img src=\"https://colab.research.google.com/assets/colab-badge.svg\" alt=\"Open In Colab\"/></a>"
      ]
    },
    {
      "cell_type": "markdown",
      "metadata": {
        "id": "IS-j4xlF9Ka_"
      },
      "source": [
        "# Importing Libraries"
      ]
    },
    {
      "cell_type": "code",
      "execution_count": 58,
      "metadata": {
        "colab": {
          "base_uri": "https://localhost:8080/"
        },
        "id": "4x6SxmX49FZr",
        "outputId": "f3e5766e-f281-4688-c88d-169dccb72b53"
      },
      "outputs": [
        {
          "output_type": "stream",
          "name": "stdout",
          "text": [
            "1.2.2\n"
          ]
        }
      ],
      "source": [
        "import sklearn\n",
        "print(sklearn.__version__)\n",
        "from sklearn.model_selection import train_test_split\n",
        "import pandas as pd\n",
        "import numpy as np\n",
        "from numpy.lib.function_base import vectorize\n",
        "from sklearn.feature_extraction.text import CountVectorizer\n",
        "from sklearn.feature_extraction.text import TfidfVectorizer\n",
        "from numpy.core.fromnumeric import size\n",
        "from sklearn.linear_model import LogisticRegression\n",
        "from sklearn.metrics import confusion_matrix\n",
        "from sklearn.metrics import accuracy_score\n",
        "from sklearn.metrics import classification_report\n",
        "import tqdm\n",
        "import time\n",
        "import json\n",
        "import re\n",
        "import csv\n",
        "import urllib.request\n",
        "import shutil"
      ]
    },
    {
      "cell_type": "markdown",
      "source": [
        "# Data"
      ],
      "metadata": {
        "id": "PFU9Nj2ERfMp"
      }
    },
    {
      "cell_type": "code",
      "source": [
        "# For saving results\n",
        "df_result = pd.read_csv(\"https://raw.githubusercontent.com/mus-shd/CVSS-BERT/main/data/cve_2018-2020_y_test.csv\", header=0)\n",
        "df_result[\"CVE-ID\"] = pd.read_csv(\"https://raw.githubusercontent.com/mus-shd/CVSS-BERT/main/data/cve_2018-2020_X_test.csv\", header=0)[\"CVE_ID\"]\n",
        "df_comparison = pd.DataFrame()\n",
        "\n",
        "\n",
        "# metrics = ['cvssV3_attackVector','cvssV3_attackComplexity','cvssV3_privilegesRequired','cvssV3_userInteraction',\n",
        "#            'cvssV3_scope','cvssV3_confidentialityImpact','cvssV3_integrityImpact','cvssV3_availabilityImpact']\n",
        "metrics = ['cvssV3_attackVector']\n",
        "\n",
        "\n",
        "acu = []\n",
        "\n",
        "for metric in metrics:\n",
        "  train_sentence = pd.read_csv(\"https://raw.githubusercontent.com/mus-shd/CVSS-BERT/main/data/cve_2018-2020_X_train.csv\", header=0)\n",
        "  test_sentence = pd.read_csv(\"https://raw.githubusercontent.com/mus-shd/CVSS-BERT/main/data/cve_2018-2020_X_test.csv\", header=0)\n",
        "  y_train = pd.read_csv(\"https://raw.githubusercontent.com/mus-shd/CVSS-BERT/main/data/cve_2018-2020_y_train.csv\", header=0)\n",
        "  y_test  = pd.read_csv(\"https://raw.githubusercontent.com/mus-shd/CVSS-BERT/main/data/cve_2018-2020_y_test.csv\", header=0)\n",
        "  y_train = pd.DataFrame(y_train[[metric]])\n",
        "  y_test  = pd.DataFrame(y_test[[metric]])\n",
        "\n",
        "  # Show data distribution\n",
        "  print(\"----------y_train:\", y_train.value_counts())\n",
        "  print(\"----------y_test:\", y_test.value_counts())\n"
      ],
      "metadata": {
        "colab": {
          "base_uri": "https://localhost:8080/"
        },
        "id": "MerE8aqcbUmR",
        "outputId": "ba81e97e-5789-42ec-e908-1f1e2bc687dd"
      },
      "execution_count": 59,
      "outputs": [
        {
          "output_type": "stream",
          "name": "stdout",
          "text": [
            "----------y_train: cvssV3_attackVector\n",
            "NETWORK                16989\n",
            "LOCAL                   5105\n",
            "ADJACENT_NETWORK         566\n",
            "PHYSICAL                 303\n",
            "dtype: int64\n",
            "----------y_test: cvssV3_attackVector\n",
            "NETWORK                17101\n",
            "LOCAL                   4988\n",
            "ADJACENT_NETWORK         584\n",
            "PHYSICAL                 290\n",
            "dtype: int64\n"
          ]
        }
      ]
    },
    {
      "cell_type": "markdown",
      "source": [
        "\n",
        "# Natural Language Processing (train)"
      ],
      "metadata": {
        "id": "8fVlNXxNXzW0"
      }
    },
    {
      "cell_type": "code",
      "source": [
        "# Natural Language Processing\n",
        "# Creating BoW features with sklearn's CountVectorizer\n",
        "vectorizer = CountVectorizer(stop_words=\"english\")\n",
        "\n",
        "X_train = vectorizer.fit_transform(train_sentence['Description'].values)\n",
        "print('dimensions:', X_train.shape)"
      ],
      "metadata": {
        "colab": {
          "base_uri": "https://localhost:8080/"
        },
        "id": "yYKJubfMYO6e",
        "outputId": "c75a0a95-5893-4aec-8492-585549e05ec8"
      },
      "execution_count": 60,
      "outputs": [
        {
          "output_type": "stream",
          "name": "stdout",
          "text": [
            "dimensions: (22963, 36104)\n"
          ]
        }
      ]
    },
    {
      "cell_type": "markdown",
      "source": [
        "# Multinomial Logistic Regression (train)"
      ],
      "metadata": {
        "id": "5z8bV5fKX4-R"
      }
    },
    {
      "cell_type": "code",
      "source": [
        "# Create a classification model for MLR using vectorized features\n",
        "lr = LogisticRegression(C=0.1, random_state=1, multi_class='multinomial', n_jobs=-1)\n",
        "# lr = LogisticRegression(C=0.1, multi_class='multinomial', n_jobs=-1)\n",
        "lr.fit(X_train, y_train)"
      ],
      "metadata": {
        "colab": {
          "base_uri": "https://localhost:8080/",
          "height": 131
        },
        "id": "bGVdsx6FYxtn",
        "outputId": "119bcd82-0303-4e06-a99f-5bb712f9c3dc"
      },
      "execution_count": 61,
      "outputs": [
        {
          "output_type": "stream",
          "name": "stderr",
          "text": [
            "/usr/local/lib/python3.10/dist-packages/sklearn/utils/validation.py:1143: DataConversionWarning: A column-vector y was passed when a 1d array was expected. Please change the shape of y to (n_samples, ), for example using ravel().\n",
            "  y = column_or_1d(y, warn=True)\n"
          ]
        },
        {
          "output_type": "execute_result",
          "data": {
            "text/plain": [
              "LogisticRegression(C=0.1, multi_class='multinomial', n_jobs=-1, random_state=1)"
            ],
            "text/html": [
              "<style>#sk-container-id-3 {color: black;background-color: white;}#sk-container-id-3 pre{padding: 0;}#sk-container-id-3 div.sk-toggleable {background-color: white;}#sk-container-id-3 label.sk-toggleable__label {cursor: pointer;display: block;width: 100%;margin-bottom: 0;padding: 0.3em;box-sizing: border-box;text-align: center;}#sk-container-id-3 label.sk-toggleable__label-arrow:before {content: \"▸\";float: left;margin-right: 0.25em;color: #696969;}#sk-container-id-3 label.sk-toggleable__label-arrow:hover:before {color: black;}#sk-container-id-3 div.sk-estimator:hover label.sk-toggleable__label-arrow:before {color: black;}#sk-container-id-3 div.sk-toggleable__content {max-height: 0;max-width: 0;overflow: hidden;text-align: left;background-color: #f0f8ff;}#sk-container-id-3 div.sk-toggleable__content pre {margin: 0.2em;color: black;border-radius: 0.25em;background-color: #f0f8ff;}#sk-container-id-3 input.sk-toggleable__control:checked~div.sk-toggleable__content {max-height: 200px;max-width: 100%;overflow: auto;}#sk-container-id-3 input.sk-toggleable__control:checked~label.sk-toggleable__label-arrow:before {content: \"▾\";}#sk-container-id-3 div.sk-estimator input.sk-toggleable__control:checked~label.sk-toggleable__label {background-color: #d4ebff;}#sk-container-id-3 div.sk-label input.sk-toggleable__control:checked~label.sk-toggleable__label {background-color: #d4ebff;}#sk-container-id-3 input.sk-hidden--visually {border: 0;clip: rect(1px 1px 1px 1px);clip: rect(1px, 1px, 1px, 1px);height: 1px;margin: -1px;overflow: hidden;padding: 0;position: absolute;width: 1px;}#sk-container-id-3 div.sk-estimator {font-family: monospace;background-color: #f0f8ff;border: 1px dotted black;border-radius: 0.25em;box-sizing: border-box;margin-bottom: 0.5em;}#sk-container-id-3 div.sk-estimator:hover {background-color: #d4ebff;}#sk-container-id-3 div.sk-parallel-item::after {content: \"\";width: 100%;border-bottom: 1px solid gray;flex-grow: 1;}#sk-container-id-3 div.sk-label:hover label.sk-toggleable__label {background-color: #d4ebff;}#sk-container-id-3 div.sk-serial::before {content: \"\";position: absolute;border-left: 1px solid gray;box-sizing: border-box;top: 0;bottom: 0;left: 50%;z-index: 0;}#sk-container-id-3 div.sk-serial {display: flex;flex-direction: column;align-items: center;background-color: white;padding-right: 0.2em;padding-left: 0.2em;position: relative;}#sk-container-id-3 div.sk-item {position: relative;z-index: 1;}#sk-container-id-3 div.sk-parallel {display: flex;align-items: stretch;justify-content: center;background-color: white;position: relative;}#sk-container-id-3 div.sk-item::before, #sk-container-id-3 div.sk-parallel-item::before {content: \"\";position: absolute;border-left: 1px solid gray;box-sizing: border-box;top: 0;bottom: 0;left: 50%;z-index: -1;}#sk-container-id-3 div.sk-parallel-item {display: flex;flex-direction: column;z-index: 1;position: relative;background-color: white;}#sk-container-id-3 div.sk-parallel-item:first-child::after {align-self: flex-end;width: 50%;}#sk-container-id-3 div.sk-parallel-item:last-child::after {align-self: flex-start;width: 50%;}#sk-container-id-3 div.sk-parallel-item:only-child::after {width: 0;}#sk-container-id-3 div.sk-dashed-wrapped {border: 1px dashed gray;margin: 0 0.4em 0.5em 0.4em;box-sizing: border-box;padding-bottom: 0.4em;background-color: white;}#sk-container-id-3 div.sk-label label {font-family: monospace;font-weight: bold;display: inline-block;line-height: 1.2em;}#sk-container-id-3 div.sk-label-container {text-align: center;}#sk-container-id-3 div.sk-container {/* jupyter's `normalize.less` sets `[hidden] { display: none; }` but bootstrap.min.css set `[hidden] { display: none !important; }` so we also need the `!important` here to be able to override the default hidden behavior on the sphinx rendered scikit-learn.org. See: https://github.com/scikit-learn/scikit-learn/issues/21755 */display: inline-block !important;position: relative;}#sk-container-id-3 div.sk-text-repr-fallback {display: none;}</style><div id=\"sk-container-id-3\" class=\"sk-top-container\"><div class=\"sk-text-repr-fallback\"><pre>LogisticRegression(C=0.1, multi_class=&#x27;multinomial&#x27;, n_jobs=-1, random_state=1)</pre><b>In a Jupyter environment, please rerun this cell to show the HTML representation or trust the notebook. <br />On GitHub, the HTML representation is unable to render, please try loading this page with nbviewer.org.</b></div><div class=\"sk-container\" hidden><div class=\"sk-item\"><div class=\"sk-estimator sk-toggleable\"><input class=\"sk-toggleable__control sk-hidden--visually\" id=\"sk-estimator-id-3\" type=\"checkbox\" checked><label for=\"sk-estimator-id-3\" class=\"sk-toggleable__label sk-toggleable__label-arrow\">LogisticRegression</label><div class=\"sk-toggleable__content\"><pre>LogisticRegression(C=0.1, multi_class=&#x27;multinomial&#x27;, n_jobs=-1, random_state=1)</pre></div></div></div></div></div>"
            ]
          },
          "metadata": {},
          "execution_count": 61
        }
      ]
    },
    {
      "cell_type": "markdown",
      "source": [
        "# Natural Language Processing (test)"
      ],
      "metadata": {
        "id": "djh0OU-PX79_"
      }
    },
    {
      "cell_type": "code",
      "source": [
        "# Natural Language Processing\n",
        "# Creating BoW features with sklearn's CountVectorizer.\n",
        "X_test = vectorizer.transform(test_sentence['Description'].values)"
      ],
      "metadata": {
        "id": "WWSTfaz6Y5mC"
      },
      "execution_count": 62,
      "outputs": []
    },
    {
      "cell_type": "markdown",
      "source": [
        "# Multinomial Logistic Regression (test)"
      ],
      "metadata": {
        "id": "89587fuEX-ne"
      }
    },
    {
      "cell_type": "code",
      "source": [
        "# Get confusion matrix labels from dataset\n",
        "class_labels = list(y_train[metric].unique())\n",
        "\n",
        "# Test data to confirm accuracy.\n",
        "y_pred = lr.predict(X_test)\n",
        "cm = confusion_matrix(y_test, y_pred, labels=class_labels)"
      ],
      "metadata": {
        "id": "tkfg84u7ZVDf"
      },
      "execution_count": 63,
      "outputs": []
    },
    {
      "cell_type": "markdown",
      "source": [
        "# Output results"
      ],
      "metadata": {
        "id": "BoJ_4iC6ZnHc"
      }
    },
    {
      "cell_type": "code",
      "source": [
        "# Add label\n",
        "class_labels_actual = [f\"A: {label}\" for label in class_labels]\n",
        "class_labels_predicted = [f\"P: {label}\" for label in class_labels]\n",
        "\n",
        "# Branching when creating a table.\n",
        "table = pd.DataFrame(cm, columns=class_labels_predicted, index=class_labels_actual)\n",
        "\n",
        "# Save predicted value\n",
        "df_result[f'pred_{metric}'] = y_pred\n",
        "df_comparison[metric] = df_result[metric] == df_result[f'pred_{metric}']\n",
        "\n",
        "# Accuracy\n",
        "acu.append(accuracy_score(y_test, y_pred))\n",
        "print(\"accuracy:\", accuracy_score(y_test, y_pred))\n",
        "print(classification_report(y_test, y_pred, digits=4))\n",
        "print(table)\n",
        "print('-'*70)"
      ],
      "metadata": {
        "colab": {
          "base_uri": "https://localhost:8080/"
        },
        "id": "m7HYxnrdZZr3",
        "outputId": "8a2aa3af-adb5-49c4-8b03-77ffbf6fe7eb"
      },
      "execution_count": 64,
      "outputs": [
        {
          "output_type": "stream",
          "name": "stdout",
          "text": [
            "accuracy: 0.9017114488525019\n",
            "                  precision    recall  f1-score   support\n",
            "\n",
            "ADJACENT_NETWORK     0.8289    0.4812    0.6089       584\n",
            "           LOCAL     0.8527    0.7648    0.8064      4988\n",
            "         NETWORK     0.9158    0.9638    0.9392     17101\n",
            "        PHYSICAL     0.8366    0.4414    0.5779       290\n",
            "\n",
            "        accuracy                         0.9017     22963\n",
            "       macro avg     0.8585    0.6628    0.7331     22963\n",
            "    weighted avg     0.8989    0.9017    0.8974     22963\n",
            "\n",
            "                     P: PHYSICAL  P: NETWORK  P: LOCAL  P: ADJACENT_NETWORK\n",
            "A: PHYSICAL                  128         102        56                    4\n",
            "A: NETWORK                     7       16482       567                   45\n",
            "A: LOCAL                      11        1153      3815                    9\n",
            "A: ADJACENT_NETWORK            7         260        36                  281\n",
            "----------------------------------------------------------------------\n"
          ]
        }
      ]
    },
    {
      "cell_type": "code",
      "execution_count": 65,
      "metadata": {
        "colab": {
          "base_uri": "https://localhost:8080/"
        },
        "id": "sxMkntqE85ou",
        "outputId": "e4ff2bf1-70b5-4ecd-d09e-516f525a17df"
      },
      "outputs": [
        {
          "output_type": "stream",
          "name": "stdout",
          "text": [
            "Class: ADJACENT_NETWORK\n",
            "Positive words: ['adjacent', 'netgear', 'bluetooth', 'network', 'hyper', 'devices', 'authenticated', 'wi', 'fi', 'radio']\n",
            "Negative words: ['local', 'discovered', 'function', 'users', 'file', 'crafted', 'memory', 'successful', 'php', 'fixed']\n",
            "--------------------------------------------------\n",
            "Class: LOCAL\n",
            "Positive words: ['local', 'logon', 'artifex', 'dll', 'xpdf', 'crafted', '20063', '30452', '30102', 'executes']\n",
            "Negative words: ['xss', 'unauthenticated', 'network', 'physical', 'safari', 'scripting', 'inclusion', 'traversal', 'devices', 'upload']\n",
            "--------------------------------------------------\n",
            "Class: NETWORK\n",
            "Positive words: ['xss', 'remote', 'php', 'csrf', 'safari', 'inclusion', 'scripting', 'upload', 'traversal', 'edge']\n",
            "Negative words: ['local', 'adjacent', 'physical', 'logon', 'netgear', 'artifex', 'xpdf', 'executes', 'usb', 'bluetooth']\n",
            "--------------------------------------------------\n",
            "Class: PHYSICAL\n",
            "Positive words: ['physical', 'usb', 'physically', 'opensc', 'bypass', 'screen', 'proximate', 'lock', 'card', 'smartphones']\n",
            "Negative words: ['remote', 'authenticated', 'admin', 'control', 'network', 'service', 'process', 'request', 'privileged', 'denial']\n",
            "--------------------------------------------------\n",
            "----------------------------------------------------------------------\n",
            "----------------------------------------------------------------------\n",
            "0.9017114488525019\n"
          ]
        }
      ],
      "source": [
        "# Get the name (word) of the vectorized feature\n",
        "# Binary time\n",
        "if lr.coef_.shape[0] == 1:\n",
        "  feature_names = vectorizer.get_feature_names_out()  # Get the name of the feature (word)\n",
        "  coef = lr.coef_[0]  # For binary cases, the coefficients are a one-dimensional array (coefficients of class 0)\n",
        "\n",
        "  # Extracting words that had a positive influence and words that had a negative influence\n",
        "  # Get positive words sorted in descending order of coefficients\n",
        "  sorted_indices = coef.argsort()[::-1]  # Get indexes sorted in descending order of coefficients\n",
        "  positive_words = [feature_names[i] for i in sorted_indices[:10]]  # Get top 10 words\n",
        "  positive_weights = [coef[i] for i in sorted_indices[:10]]  # Get weights of top 10 words\n",
        "  negative_words = [feature_names[i] for i in coef.argsort()[:10]]\n",
        "  negative_weights = [coef[i] for i in coef.argsort()[:10]]\n",
        "\n",
        "  print('Positive words:', positive_words)\n",
        "  print('Negative words:', negative_words)\n",
        "\n",
        "\n",
        "\n",
        "# When the value is two or more\n",
        "if lr.coef_.shape[0] != 1:\n",
        "  # Extraction of positive and negative words for each classification category\n",
        "  coef_matrix = lr.coef_\n",
        "\n",
        "\n",
        "  for i, class_name in enumerate(lr.classes_):\n",
        "    coef = coef_matrix[i]\n",
        "    # Extracting words that had a positive influence and words that had a negative influence\n",
        "    # Get positive words sorted in descending order of coefficients\n",
        "    sorted_indices = coef.argsort()[::-1]  # Get indexes sorted in descending order of coefficients\n",
        "    positive_words = [feature_names[i] for i in sorted_indices[:10]]  # Get top 10 words\n",
        "    positive_weights = [coef[i] for i in sorted_indices[:10]]  # Get weights of top 10 words\n",
        "    negative_words = [feature_names[i] for i in coef.argsort()[:10]]\n",
        "\n",
        "\n",
        "    print(\"Class:\", class_name)\n",
        "    print(\"Positive words:\", positive_words)\n",
        "    print(\"Negative words:\", negative_words)\n",
        "    print('-' * 50)\n",
        "\n",
        "\n",
        "print('-'*70)\n",
        "print('-'*70)\n",
        "\n",
        "for i in acu:\n",
        "  print(i)"
      ]
    },
    {
      "cell_type": "markdown",
      "source": [
        "# Example"
      ],
      "metadata": {
        "id": "OJFLWoS6eJZf"
      }
    },
    {
      "cell_type": "code",
      "source": [
        "print(\"CVE-ID:\", df_result.loc[0, \"CVE-ID\"])\n",
        "print(\"cvssV3_attackVector:\", df_result.loc[0, \"cvssV3_attackVector\"])\n",
        "print(\"pred_cvssV3_attackVector:\", df_result.loc[0, \"pred_cvssV3_attackVector\"])"
      ],
      "metadata": {
        "colab": {
          "base_uri": "https://localhost:8080/"
        },
        "id": "aSvZoZ7h_Ald",
        "outputId": "8cf41441-113d-460b-d95f-668a302f25c2"
      },
      "execution_count": 66,
      "outputs": [
        {
          "output_type": "stream",
          "name": "stdout",
          "text": [
            "CVE-ID: CVE-2019-4740\n",
            "cvssV3_attackVector: NETWORK\n",
            "pred_cvssV3_attackVector: NETWORK\n"
          ]
        }
      ]
    },
    {
      "cell_type": "code",
      "source": [],
      "metadata": {
        "id": "O0SGA-IKvIWC"
      },
      "execution_count": 66,
      "outputs": []
    }
  ],
  "metadata": {
    "colab": {
      "provenance": [],
      "mount_file_id": "1WZjnmX0Rky6J2_BAZVQyA1amm6CartC2",
      "authorship_tag": "ABX9TyPiqQ92GUXj+J8+9gSMb2LM",
      "include_colab_link": true
    },
    "kernelspec": {
      "display_name": "Python 3",
      "name": "python3"
    },
    "language_info": {
      "name": "python"
    }
  },
  "nbformat": 4,
  "nbformat_minor": 0
}