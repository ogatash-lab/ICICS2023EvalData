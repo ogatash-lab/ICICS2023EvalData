{
  "nbformat": 4,
  "nbformat_minor": 0,
  "metadata": {
    "colab": {
      "provenance": [],
      "mount_file_id": "19pW7Vcn70njsPRSa2vNA4pN0qXHpif8M",
      "authorship_tag": "ABX9TyMXfJA6iuCYD1adXn5cgeu4",
      "include_colab_link": true
    },
    "kernelspec": {
      "name": "python3",
      "display_name": "Python 3"
    },
    "language_info": {
      "name": "python"
    }
  },
  "cells": [
    {
      "cell_type": "markdown",
      "metadata": {
        "id": "view-in-github",
        "colab_type": "text"
      },
      "source": [
        "<a href=\"https://colab.research.google.com/github/ogatash-lab/ICICS2023EvalData/blob/main/MLR.ipynb\" target=\"_parent\"><img src=\"https://colab.research.google.com/assets/colab-badge.svg\" alt=\"Open In Colab\"/></a>"
      ]
    },
    {
      "cell_type": "markdown",
      "source": [
        "[![Open In Colab](https://colab.research.google.com/assets/colab-badge.svg)](https://colab.research.google.com/github/ogatash-lab/ARES2023ExpData/blob/main/MLR.ipynb)"
      ],
      "metadata": {
        "id": "nUAv5AtK9QPe"
      }
    },
    {
      "cell_type": "markdown",
      "source": [
        "# Importing Libraries"
      ],
      "metadata": {
        "id": "C2uEt6ECeG3l"
      }
    },
    {
      "cell_type": "code",
      "source": [
        "import sklearn\n",
        "print(sklearn.__version__)\n",
        "from sklearn.model_selection import train_test_split\n",
        "import pandas as pd\n",
        "import numpy as np\n",
        "from numpy.lib.function_base import vectorize\n",
        "from sklearn.feature_extraction.text import CountVectorizer\n",
        "from numpy.core.fromnumeric import size\n",
        "from sklearn.linear_model import LogisticRegression\n",
        "from sklearn.metrics import confusion_matrix\n",
        "from sklearn.metrics import accuracy_score\n",
        "import tqdm\n",
        "import time\n",
        "import json\n",
        "import re\n",
        "import csv"
      ],
      "metadata": {
        "colab": {
          "base_uri": "https://localhost:8080/"
        },
        "id": "u2iu9jfOyXCG",
        "outputId": "eb10abca-c3b0-410f-eb7f-a7e03f5b6cb2"
      },
      "execution_count": null,
      "outputs": [
        {
          "output_type": "stream",
          "name": "stdout",
          "text": [
            "1.2.2\n"
          ]
        }
      ]
    },
    {
      "cell_type": "markdown",
      "source": [
        "# Data load"
      ],
      "metadata": {
        "id": "WSBbUp9PiJnB"
      }
    },
    {
      "cell_type": "code",
      "source": [
        "# header\n",
        "HEADER = ['CVE-ID', 'Description', 'CVSS Base Score', 'AV', 'AC', 'PR', 'UI', 'S', 'C', 'I', 'A'] \n",
        "filelist = ['07', '08', '09', '10', '11', '12', '13', '14', '15', '16', '17', '18', '19']\n",
        "\n",
        "# Reading json files\n",
        "for i in filelist:\n",
        "  filename_josn = '/content/drive/MyDrive/Colab Notebooks/test/json/nvdcve-1.1-20{0}.json'.format(i)\n",
        "  json_open = open(filename_josn, 'r')\n",
        "  json_load = json.load(json_open)\n",
        "\n",
        "  # Output to cvs file\n",
        "  filename_csv = './data_set_20{0}.csv'.format(i)\n",
        "  with open(filename_csv, 'w', encoding='utf-8') as f:\n",
        "    # Header output\n",
        "    writer = csv.writer(f)\n",
        "    writer.writerow(HEADER)\n",
        "\n",
        "    # Output of contents\n",
        "    for j in range(len(json_load[\"CVE_Items\"])):\n",
        "\n",
        "      # Initialisation of variables\n",
        "      out_description = \"\"\n",
        "      out_id = \"\"\n",
        "      \n",
        "      try:\n",
        "        for i in json_load[\"CVE_Items\"][j][\"cve\"][\"description\"]['description_data']:\n",
        "          out_description += i['value']\n",
        "        out_id = json_load[\"CVE_Items\"][j][\"cve\"][\"CVE_data_meta\"][\"ID\"]\n",
        "        out_cvss_score = json_load[\"CVE_Items\"][j][\"impact\"][\"baseMetricV3\"][\"cvssV3\"][\"baseScore\"]\n",
        "        out_cvss_vector = json_load[\"CVE_Items\"][j][\"impact\"][\"baseMetricV3\"][\"cvssV3\"][\"vectorString\"]\n",
        "        if out_cvss_vector != None:\n",
        "          out_cvss_vector_AV = re.search(r\"AV:.\", out_cvss_vector).group()\n",
        "          out_cvss_vector_AC = re.search(r\"AC:.\", out_cvss_vector).group()\n",
        "          out_cvss_vector_PR = re.search(r\"PR:.\", out_cvss_vector).group()\n",
        "          out_cvss_vector_UI = re.search(r\"UI:.\", out_cvss_vector).group()\n",
        "          out_cvss_vector_S = re.search(r\"/S:.\", out_cvss_vector).group()\n",
        "          out_cvss_vector_C = re.search(r\"/C:.\", out_cvss_vector).group()\n",
        "          out_cvss_vector_I = re.search(r\"/I:.\", out_cvss_vector).group()\n",
        "          out_cvss_vector_A = re.search(r\"/A:.\", out_cvss_vector).group()\n",
        "      \n",
        "      except KeyError:\n",
        "        continue    \n",
        "\n",
        "      # Output\n",
        "      row = [out_id, out_description, out_cvss_score, \n",
        "            out_cvss_vector_AV, out_cvss_vector_AC, out_cvss_vector_PR, \n",
        "            out_cvss_vector_UI, out_cvss_vector_S, out_cvss_vector_C, \n",
        "            out_cvss_vector_I, out_cvss_vector_A]\n",
        "      writer.writerow(row)\n"
      ],
      "metadata": {
        "id": "nmsK4EY-ZjTk"
      },
      "execution_count": null,
      "outputs": []
    },
    {
      "cell_type": "markdown",
      "source": [
        "# Data-Set"
      ],
      "metadata": {
        "id": "wxFMiYVheYRf"
      }
    },
    {
      "cell_type": "code",
      "source": [
        "# df_2007 = pd.read_csv(\"/content/data_set_2007.csv\", header=0)\n",
        "# df_2008 = pd.read_csv(\"https://raw.githubusercontent.com/sho6210/test/main/data/data_set_2008.csv\", header=0)\n",
        "# df_2009 = pd.read_csv(\"https://raw.githubusercontent.com/sho6210/test/main/data/data_set_2009.csv\", header=0)\n",
        "# df_2010 = pd.read_csv(\"https://raw.githubusercontent.com/sho6210/test/main/data/data_set_2010.csv\", header=0)\n",
        "# df_2011 = pd.read_csv(\"https://raw.githubusercontent.com/sho6210/test/main/data/data_set_2011.csv\", header=0)\n",
        "# df_2012 = pd.read_csv(\"https://raw.githubusercontent.com/sho6210/test/main/data/data_set_2012.csv\", header=0)\n",
        "# df_2013 = pd.read_csv(\"https://raw.githubusercontent.com/sho6210/test/main/data/data_set_2013.csv\", header=0)\n",
        "# df_2014 = pd.read_csv(\"https://raw.githubusercontent.com/sho6210/test/main/data/data_set_2014.csv\", header=0)\n",
        "# df_2015 = pd.read_csv(\"https://raw.githubusercontent.com/sho6210/test/main/data/data_set_2015.csv\", header=0)\n",
        "# df_2016 = pd.read_csv(\"https://raw.githubusercontent.com/sho6210/test/main/data/data_set_2016.csv\", header=0)\n",
        "# df_2017 = pd.read_csv(\"https://raw.githubusercontent.com/sho6210/test/main/data/data_set_2017.csv\", header=0)\n",
        "# df_2018 = pd.read_csv(\"https://raw.githubusercontent.com/sho6210/test/main/data/data_set_2018.csv\", header=0)\n",
        "# df_2019 = pd.read_csv(\"https://raw.githubusercontent.com/sho6210/test/main/data/data_set_2019.csv\", header=0)\n",
        "\n",
        "df_2007 = pd.read_csv(\"/content/data_set_2007.csv\", header=0)\n",
        "df_2008 = pd.read_csv(\"/content/data_set_2008.csv\", header=0)\n",
        "df_2009 = pd.read_csv(\"/content/data_set_2009.csv\", header=0)\n",
        "df_2010 = pd.read_csv(\"/content/data_set_2010.csv\", header=0)\n",
        "df_2011 = pd.read_csv(\"/content/data_set_2011.csv\", header=0)\n",
        "df_2012 = pd.read_csv(\"/content/data_set_2012.csv\", header=0)\n",
        "df_2013 = pd.read_csv(\"/content/data_set_2013.csv\", header=0)\n",
        "df_2014 = pd.read_csv(\"/content/data_set_2014.csv\", header=0)\n",
        "df_2015 = pd.read_csv(\"/content/data_set_2015.csv\", header=0)\n",
        "df_2016 = pd.read_csv(\"/content/data_set_2016.csv\", header=0)\n",
        "df_2017 = pd.read_csv(\"/content/data_set_2017.csv\", header=0)\n",
        "df_2018 = pd.read_csv(\"/content/data_set_2018.csv\", header=0)\n",
        "df_2019 = pd.read_csv(\"/content/data_set_2019.csv\", header=0)\n",
        "\n",
        "\n",
        "# df_0000 storage list\n",
        "list_df = [df_2007, df_2008, df_2009, df_2010, df_2011, df_2012, df_2013, df_2014, df_2015, df_2016, df_2017, df_2018, df_2019]"
      ],
      "metadata": {
        "id": "mi3BWBebeRLv"
      },
      "execution_count": null,
      "outputs": []
    },
    {
      "cell_type": "markdown",
      "source": [
        "# Reading and data splitting"
      ],
      "metadata": {
        "id": "3rmQiwieyvmy"
      }
    },
    {
      "cell_type": "code",
      "source": [
        "def DataMake(split, metric, list_df):\n",
        "  # variable\n",
        "  label_train = []\n",
        "  label_test = []\n",
        "  sentences_train = []\n",
        "  sentences_test = []\n",
        "\n",
        "  # Split the correct answer labels and target sentences into study and test.\n",
        "  list_train = list_df[:split]\n",
        "  list_test = list_df[split:]\n",
        "  print('metric:', metric)\n",
        "  print('train:', len(list_train), 'test:', len(list_test))\n",
        "\n",
        "  # Store data frames for testing in df_test.\n",
        "  df_test = pd.concat(list_test)\n",
        "\n",
        "  # Extract and list metric value in a list.\n",
        "  for i in list_train:\n",
        "    label_train.append(i[metric].values)\n",
        "    sentences_train.append(i['Description'].values)\n",
        "  for i in list_test:\n",
        "    label_test.append(i[metric].values)\n",
        "    sentences_test.append(i['Description'].values)\n",
        "\n",
        "  # data for input\n",
        "  # metric value\n",
        "  y_train = np.concatenate(label_train, 0)\n",
        "  y_test = np.concatenate(label_test, 0)\n",
        "  # description\n",
        "  train_sentence = np.concatenate(sentences_train, 0)\n",
        "  test_sentence = np.concatenate(sentences_test, 0)\n",
        "\n",
        "  return y_train, y_test, train_sentence, test_sentence, df_test"
      ],
      "metadata": {
        "id": "7EFClJiGyi7y"
      },
      "execution_count": null,
      "outputs": []
    },
    {
      "cell_type": "markdown",
      "source": [
        "# Natural Language Processing (train)"
      ],
      "metadata": {
        "id": "YfYxevRwfneG"
      }
    },
    {
      "cell_type": "code",
      "source": [
        "def NLP_train(train_sentence):\n",
        "  # Natural Language Processing\n",
        "  # Creating BoW features with sklearn's CountVectorizer\n",
        "  vectorizer = CountVectorizer(stop_words=\"english\")\n",
        "  X_train = vectorizer.fit_transform(train_sentence)\n",
        "  \n",
        "  return X_train, vectorizer"
      ],
      "metadata": {
        "id": "UFh_yTKG_L3d"
      },
      "execution_count": null,
      "outputs": []
    },
    {
      "cell_type": "markdown",
      "source": [
        "# Multinomial Logistic Regression (train)"
      ],
      "metadata": {
        "id": "OhGKDuML0g93"
      }
    },
    {
      "cell_type": "code",
      "source": [
        "def MLR_train(X_train, y_train):\n",
        "  # Create a classification model for MLR using vectorized features\n",
        "  lr = LogisticRegression(C=0.1, random_state=0, n_jobs=-1)\n",
        "  lr.fit(X_train, y_train)\n",
        "\n",
        "  return lr\n",
        "\n"
      ],
      "metadata": {
        "id": "A-Y15tpr_9jv"
      },
      "execution_count": null,
      "outputs": []
    },
    {
      "cell_type": "markdown",
      "source": [
        "# Natural Language Processing (test)"
      ],
      "metadata": {
        "id": "A1MAf62J0tPh"
      }
    },
    {
      "cell_type": "code",
      "source": [
        "def NLP_test(test_sentence, vectorizer):\n",
        "  # Natural Language Processing\n",
        "  # Creating BoW features with sklearn's CountVectorizer.\n",
        "  X_test = vectorizer.transform(test_sentence)\n",
        "  \n",
        "  return X_test"
      ],
      "metadata": {
        "id": "JVv9EtnWlZrm"
      },
      "execution_count": null,
      "outputs": []
    },
    {
      "cell_type": "markdown",
      "source": [
        "# Multinomial Logistic Regression (test)"
      ],
      "metadata": {
        "id": "2rxS6KVU0vh5"
      }
    },
    {
      "cell_type": "code",
      "source": [
        "def MLR_test(metric, X_test, y_test, lr):\n",
        "  # Test data to confirm accuracy.\n",
        "  y_pred = lr.predict(X_test)\n",
        "  cm = confusion_matrix(y_test, y_pred)\n",
        "\n",
        "  # Branching when creating a table.\n",
        "  if metric == 'AV':\n",
        "    table = pd.DataFrame(cm, columns=['Predicted A', 'Predicted L', 'Predicted N', 'Predicted P'], index=['Actual A', 'Actual L', 'Actual N', 'Actual P'])\n",
        "  elif metric == 'AC':\n",
        "    table = pd.DataFrame(cm, columns=['Predicted H', 'Predicted L'], index=['Actual H', 'Actual L'])\n",
        "  elif metric == 'PR':\n",
        "    table = pd.DataFrame(cm, columns=['Predicted H', 'Predicted L', 'Predicted N'], index=['Actual H', 'Actual L', 'Actual N'])\n",
        "  elif metric == 'UI':\n",
        "    table = pd.DataFrame(cm, columns=['Predicted N', 'Predicted R'], index=['Actual N', 'Actual R'])\n",
        "  elif metric == 'S':\n",
        "    table = pd.DataFrame(cm, columns=['Predicted C', 'Predicted U'], index=['Actual C', 'Actual U'])\n",
        "  else:\n",
        "    table = pd.DataFrame(cm, columns=['Predicted H', 'Predicted L', 'Predicted N'], index=['Actual H', 'Actual L', 'Actual N'])\n",
        "\n",
        "  # Accuracy\n",
        "  print(\"accuracy:\", accuracy_score(y_test, y_pred))\n",
        "  print(table)\n",
        "  print('-'*70)\n",
        "\n",
        "  # Returns a list containing the prediction results and a data frame for testing.\n",
        "  return y_pred, df_test\n",
        "\n"
      ],
      "metadata": {
        "id": "65tQ7Pvnmg76"
      },
      "execution_count": null,
      "outputs": []
    },
    {
      "cell_type": "markdown",
      "source": [
        "# Example"
      ],
      "metadata": {
        "id": "dYF-OpMa03Ra"
      }
    },
    {
      "cell_type": "code",
      "source": [
        "time_sta = time.time()\n",
        "\n",
        "metrics = ['AV', 'AC', 'PR', 'UI', 'S', 'C', 'I', 'A']\n",
        "split = 12\n",
        "\n",
        "for metric in metrics:\n",
        "  y_train, y_test, train_sentence, test_sentence, df_test = DataMake(split, metric, list_df)\n",
        "\n",
        "  X_train, vectorizer = NLP_train(train_sentence)\n",
        "  lr = MLR_train(X_train, y_train)\n",
        "\n",
        "  X_test = NLP_test(test_sentence, vectorizer)\n",
        "  MLR_test(metric, X_test, y_test, lr)\n",
        "\n",
        "time_end = time.time()\n",
        "print('Processing time:', time_end - time_sta)"
      ],
      "metadata": {
        "colab": {
          "base_uri": "https://localhost:8080/"
        },
        "id": "oB6I7HqcofQ2",
        "outputId": "7d7c328c-f11d-472a-f790-84bb7b0e93b8"
      },
      "execution_count": null,
      "outputs": [
        {
          "output_type": "stream",
          "name": "stdout",
          "text": [
            "metric: AV\n",
            "train: 12 test: 1\n",
            "(42301, 55128)\n",
            "accuracy: 0.8824686129178642\n",
            "          Predicted A  Predicted L  Predicted N  Predicted P\n",
            "Actual A           76           21          152            2\n",
            "Actual L            6         1977          695            3\n",
            "Actual N           27          549         9543            8\n",
            "Actual P            1           36           54           72\n",
            "----------------------------------------------------------------------\n",
            "metric: AC\n",
            "train: 12 test: 1\n",
            "(42301, 55128)\n",
            "accuracy: 0.9551505067312056\n",
            "          Predicted H  Predicted L\n",
            "Actual H          338          445\n",
            "Actual L          148        12291\n",
            "----------------------------------------------------------------------\n",
            "metric: PR\n",
            "train: 12 test: 1\n",
            "(42301, 55128)\n",
            "accuracy: 0.8031311450612615\n",
            "          Predicted H  Predicted L  Predicted N\n",
            "Actual H          323          299          283\n",
            "Actual L           87         2141         1370\n",
            "Actual N           45          519         8155\n",
            "----------------------------------------------------------------------\n",
            "metric: UI\n",
            "train: 12 test: 1\n",
            "(42301, 55128)\n",
            "accuracy: 0.8720314627136591\n",
            "          Predicted N  Predicted R\n",
            "Actual N         8037          574\n",
            "Actual R         1118         3493\n",
            "----------------------------------------------------------------------\n",
            "metric: S\n",
            "train: 12 test: 1\n",
            "(42301, 55128)\n",
            "accuracy: 0.9659658145515051\n",
            "          Predicted C  Predicted U\n",
            "Actual C         1726          337\n",
            "Actual U          113        11046\n",
            "----------------------------------------------------------------------\n",
            "metric: C\n",
            "train: 12 test: 1\n",
            "(42301, 55128)\n",
            "accuracy: 0.8449553774013009\n",
            "          Predicted H  Predicted L  Predicted N\n",
            "Actual H         7461          164          281\n",
            "Actual L          620         1773           91\n",
            "Actual N          847           47         1938\n",
            "----------------------------------------------------------------------\n",
            "metric: I\n",
            "train: 12 test: 1\n",
            "(42301, 55128)\n",
            "accuracy: 0.8466949024353351\n",
            "          Predicted H  Predicted L  Predicted N\n",
            "Actual H         6118          116          531\n",
            "Actual L          397         1722          113\n",
            "Actual N          851           19         3355\n",
            "----------------------------------------------------------------------\n",
            "metric: A\n",
            "train: 12 test: 1\n",
            "(42301, 55128)\n",
            "accuracy: 0.8773256693389805\n",
            "          Predicted H  Predicted L  Predicted N\n",
            "Actual H         7125           12          602\n",
            "Actual L           97           97           49\n",
            "Actual N          860            2         4378\n",
            "----------------------------------------------------------------------\n",
            "Processing time: 56.62504959106445\n"
          ]
        }
      ]
    },
    {
      "cell_type": "code",
      "source": [],
      "metadata": {
        "id": "pRwS-UOHWsKo"
      },
      "execution_count": null,
      "outputs": []
    },
    {
      "cell_type": "code",
      "source": [],
      "metadata": {
        "id": "2-rXz4khZBb3"
      },
      "execution_count": null,
      "outputs": []
    }
  ]
}